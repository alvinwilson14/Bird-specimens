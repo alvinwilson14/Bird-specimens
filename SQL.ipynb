{
 "cells": [
  {
   "cell_type": "code",
   "execution_count": 3,
   "metadata": {},
   "outputs": [],
   "source": [
    "import pandas as pd "
   ]
  },
  {
   "cell_type": "markdown",
   "metadata": {},
   "source": [
    "# Creating Data Base ##"
   ]
  },
  {
   "cell_type": "code",
   "execution_count": 4,
   "metadata": {},
   "outputs": [
    {
     "name": "stdout",
     "output_type": "stream",
     "text": [
      "Data_Base Created Successfully\n"
     ]
    }
   ],
   "source": [
    "import mysql.connector \n",
    "\n",
    "connection=mysql.connector.connect(\n",
    "    host='localhost',\n",
    "    user='root',\n",
    "    password='5666'\n",
    ")\n",
    "connection.autocommit=True\n",
    "cursor=connection.cursor()\n",
    "Data_Base=(\"Create database EDA\")\n",
    "cursor.execute(Data_Base)\n",
    "print(\"Data_Base Created Successfully\")\n",
    "cursor.close()\n",
    "connection.close()"
   ]
  },
  {
   "cell_type": "markdown",
   "metadata": {},
   "source": [
    "# Flutching Into Data Base ##\n",
    "\n"
   ]
  },
  {
   "cell_type": "code",
   "execution_count": 9,
   "metadata": {},
   "outputs": [
    {
     "name": "stdout",
     "output_type": "stream",
     "text": [
      "The Forest_Data Successfully\n",
      "The Grass_Data Successfully\n"
     ]
    }
   ],
   "source": [
    "connection=mysql.connector.connect(\n",
    "    host='localhost',\n",
    "    database='eda',\n",
    "    user='root',\n",
    "    password='5666'\n",
    ")\n",
    "connection.autocommit=True\n",
    "cursor=connection.cursor()\n",
    "cursor.execute(\"\"\" \n",
    "CREATE TABLE forest_observations (\n",
    "    Admin_Unit_Code VARCHAR(10),\n",
    "    Site_Name VARCHAR(255),\n",
    "    Plot_Name VARCHAR(255),\n",
    "    Location_Type VARCHAR(50),\n",
    "    Year INT,\n",
    "    Date DATE,\n",
    "    Start_Time TIME,\n",
    "    End_Time TIME,\n",
    "    Observer VARCHAR(255),\n",
    "    Visit INT,\n",
    "    Interval_Length VARCHAR(100),\n",
    "    ID_Method VARCHAR(100),\n",
    "    Distance VARCHAR(100),\n",
    "    Flyover_Observed BOOLEAN,\n",
    "    Sex VARCHAR(100),\n",
    "    Common_Name VARCHAR(100),\n",
    "    Scientific_Name VARCHAR (100),\n",
    "    AcceptedTSN FLOAT,\n",
    "    NPSTaxonCode INT,\n",
    "    AOU_Code VARCHAR(10),\n",
    "    PIF_Watchlist_Status BOOLEAN,\n",
    "    Regional_Stewardship_Status BOOLEAN,\n",
    "    Temperature FLOAT,\n",
    "    Humidity FLOAT,\n",
    "    Sky VARCHAR(100),\n",
    "    Wind VARCHAR(100),\n",
    "    Disturbance VARCHAR(255),\n",
    "    Initial_Three_Min_Cnt BOOLEAN\n",
    ");\n",
    "\"\"\")\n",
    "print(\"The Forest_Data Successfully\")\n",
    "cursor.execute(\"\"\"\n",
    "CREATE TABLE grassland_observations (\n",
    "    Admin_Unit_Code VARCHAR(10),\n",
    "    Plot_Name VARCHAR(255),\n",
    "    Location_Type VARCHAR(50),\n",
    "    Year INT,\n",
    "    Date DATE,\n",
    "    Start_Time TIME,\n",
    "    End_Time TIME,\n",
    "    Observer VARCHAR(255),\n",
    "    Visit INT,\n",
    "    Interval_Length VARCHAR(100),\n",
    "    ID_Method VARCHAR(100),\n",
    "    Distance VARCHAR(100),\n",
    "    Flyover_Observed BOOLEAN,\n",
    "    Sex VARCHAR(100),\n",
    "    Common_Name VARCHAR (100),\n",
    "    Scientific_Name VARCHAR(100),\n",
    "    AcceptedTSN FLOAT,\n",
    "    TaxonCode FLOAT,\n",
    "    AOU_Code VARCHAR(10),\n",
    "    PIF_Watchlist_Status BOOLEAN,\n",
    "    Regional_Stewardship_Status BOOLEAN,\n",
    "    Temperature FLOAT,\n",
    "    Humidity FLOAT,\n",
    "    Sky VARCHAR(100),\n",
    "    Wind VARCHAR(100),\n",
    "    Disturbance VARCHAR(255),\n",
    "    Previously_Obs BOOLEAN,\n",
    "    Initial_Three_Min_Cnt BOOLEAN\n",
    ");\n",
    "\"\"\")\n",
    "print(\"The Grass_Data Successfully\")\n"
   ]
  },
  {
   "cell_type": "code",
   "execution_count": 10,
   "metadata": {},
   "outputs": [],
   "source": [
    "Forest=pd.read_csv(\"forest.csv\")\n",
    "Grass=pd.read_csv('Grass_Land.csv')"
   ]
  },
  {
   "cell_type": "code",
   "execution_count": 11,
   "metadata": {},
   "outputs": [
    {
     "name": "stdout",
     "output_type": "stream",
     "text": [
      "Forest data inserted successfully!\n",
      "Grassland data inserted successfully!\n"
     ]
    }
   ],
   "source": [
    "Forest=pd.read_csv(\"forest.csv\")\n",
    "\n",
    "    # Connect to SQL\n",
    "connection = mysql.connector.connect(\n",
    "    host=\"localhost\",\n",
    "    database=\"EDA\",\n",
    "    user=\"root\",\n",
    "    password=\"5666\"\n",
    ")\n",
    "connection.autocommit = True\n",
    "cursor = connection.cursor()\n",
    "\n",
    "for index, row in Forest.iterrows():\n",
    "    cursor.execute(\"\"\"\n",
    "        INSERT INTO forest_observations (\n",
    "            Admin_Unit_Code, Site_Name, Plot_Name, Location_Type, Year, Date, Start_Time, End_Time, \n",
    "            Observer, Visit, Interval_Length, ID_Method, Distance, Flyover_Observed, Sex, Common_Name, \n",
    "            Scientific_Name, AcceptedTSN, NPSTaxonCode, AOU_Code, PIF_Watchlist_Status, \n",
    "            Regional_Stewardship_Status, Temperature, Humidity, Sky, Wind, Disturbance, Initial_Three_Min_Cnt\n",
    "        ) VALUES (%s, %s, %s, %s, %s, %s, %s, %s, %s, %s, %s, %s, %s, %s, %s, %s, %s, %s, %s, %s, \n",
    "                  %s, %s, %s, %s, %s, %s, %s, %s);\n",
    "    \"\"\", (\n",
    "        row[\"Admin_Unit_Code\"], row[\"Site_Name\"], row[\"Plot_Name\"], row[\"Location_Type\"], \n",
    "        row[\"Year\"], row[\"Date\"], row[\"Start_Time\"], row[\"End_Time\"], row[\"Observer\"], row[\"Visit\"], \n",
    "        row[\"Interval_Length\"], row[\"ID_Method\"], row[\"Distance\"], row[\"Flyover_Observed\"], row[\"Sex\"], \n",
    "        row[\"Common_Name\"], row[\"Scientific_Name\"], row[\"AcceptedTSN\"], row[\"NPSTaxonCode\"], row[\"AOU_Code\"], \n",
    "        row[\"PIF_Watchlist_Status\"], row[\"Regional_Stewardship_Status\"], row[\"Temperature\"], \n",
    "        row[\"Humidity\"], row[\"Sky\"], row[\"Wind\"], row[\"Disturbance\"], row[\"Initial_Three_Min_Cnt\"]\n",
    "    ))\n",
    "\n",
    "\n",
    "print(\"Forest data inserted successfully!\")\n",
    "\n",
    "for index, row in Grass.iterrows():\n",
    "    cursor.execute(\"\"\"\n",
    "        INSERT INTO grassland_observations (\n",
    "            Admin_Unit_Code, Plot_Name, Location_Type, Year, Date, Start_Time, End_Time, Observer, \n",
    "            Visit, Interval_Length, ID_Method, Distance, Flyover_Observed, Sex, Common_Name, \n",
    "            Scientific_Name, AcceptedTSN, TaxonCode, AOU_Code, PIF_Watchlist_Status, \n",
    "            Regional_Stewardship_Status, Temperature, Humidity, Sky, Wind, Disturbance, \n",
    "            Previously_Obs, Initial_Three_Min_Cnt\n",
    "        ) VALUES (%s, %s, %s, %s, %s, %s, %s, %s, %s, %s, %s, %s, %s, %s, %s, %s, %s, %s, \n",
    "                  %s, %s, %s, %s, %s, %s, %s, %s, %s, %s);\n",
    "    \"\"\", (\n",
    "        row[\"Admin_Unit_Code\"], row[\"Plot_Name\"], row[\"Location_Type\"], row[\"Year\"], \n",
    "        row[\"Date\"], row[\"Start_Time\"], row[\"End_Time\"], row[\"Observer\"], row[\"Visit\"], \n",
    "        row[\"Interval_Length\"], row[\"ID_Method\"], row[\"Distance\"], row[\"Flyover_Observed\"], \n",
    "        row[\"Sex\"], row[\"Common_Name\"], row[\"Scientific_Name\"], row[\"AcceptedTSN\"], \n",
    "        row[\"TaxonCode\"], row[\"AOU_Code\"], row[\"PIF_Watchlist_Status\"], \n",
    "        row[\"Regional_Stewardship_Status\"], row[\"Temperature\"], row[\"Humidity\"], \n",
    "        row[\"Sky\"], row[\"Wind\"], row[\"Disturbance\"], row[\"Previously_Obs\"], row[\"Initial_Three_Min_Cnt\"]\n",
    "    ))\n",
    "\n",
    "\n",
    "print(\"Grassland data inserted successfully!\")\n"
   ]
  }
 ],
 "metadata": {
  "kernelspec": {
   "display_name": "Python 3",
   "language": "python",
   "name": "python3"
  },
  "language_info": {
   "codemirror_mode": {
    "name": "ipython",
    "version": 3
   },
   "file_extension": ".py",
   "mimetype": "text/x-python",
   "name": "python",
   "nbconvert_exporter": "python",
   "pygments_lexer": "ipython3",
   "version": "3.13.0"
  }
 },
 "nbformat": 4,
 "nbformat_minor": 2
}
