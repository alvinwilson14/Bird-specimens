{
 "cells": [
  {
   "cell_type": "markdown",
   "metadata": {},
   "source": [
    "# Import Modules"
   ]
  },
  {
   "cell_type": "code",
   "execution_count": 1,
   "metadata": {},
   "outputs": [],
   "source": [
    "import pandas as pd\n",
    "import matplotlib.pyplot as plt"
   ]
  },
  {
   "cell_type": "markdown",
   "metadata": {},
   "source": [
    "# Forest"
   ]
  },
  {
   "cell_type": "markdown",
   "metadata": {},
   "source": [
    "## Convert Excel Sheet to a Single Excel##  "
   ]
  },
  {
   "cell_type": "code",
   "execution_count": 2,
   "metadata": {},
   "outputs": [],
   "source": [
    "excel_data=pd.ExcelFile(\"C:/Users/Admin/OneDrive/Desktop/Final/DS_Bird Species Observation Analysis in Forest and Grassland/Bird_Monitoring_Data_FOREST.XLSX\")\n",
    "sheet_names=excel_data.sheet_names\n",
    "sheets_dict={sheet :excel_data.parse(sheet) for sheet in sheet_names}\n",
    "\n",
    "combine_df=pd.concat(\n",
    "    [df.assign(sheet=sheet_name) for sheet_name,df in sheets_dict.items()],\n",
    "    ignore_index=True\n",
    ")\n",
    "\n",
    "df = combine_df.drop(columns=['sheet'])"
   ]
  },
  {
   "cell_type": "markdown",
   "metadata": {},
   "source": [
    "## Handling Missing data ##"
   ]
  },
  {
   "cell_type": "code",
   "execution_count": 3,
   "metadata": {},
   "outputs": [
    {
     "name": "stderr",
     "output_type": "stream",
     "text": [
      "C:\\Users\\Admin\\AppData\\Local\\Temp\\ipykernel_6780\\597328377.py:6: FutureWarning: A value is trying to be set on a copy of a DataFrame or Series through chained assignment using an inplace method.\n",
      "The behavior will change in pandas 3.0. This inplace method will never work because the intermediate object on which we are setting values always behaves as a copy.\n",
      "\n",
      "For example, when doing 'df[col].method(value, inplace=True)', try using 'df.method({col: value}, inplace=True)' or df[col] = df[col].method(value) instead, to perform the operation inplace on the original object.\n",
      "\n",
      "\n",
      "  df['Distance'].fillna(distance_data,inplace=True)\n",
      "C:\\Users\\Admin\\AppData\\Local\\Temp\\ipykernel_6780\\597328377.py:8: FutureWarning: A value is trying to be set on a copy of a DataFrame or Series through chained assignment using an inplace method.\n",
      "The behavior will change in pandas 3.0. This inplace method will never work because the intermediate object on which we are setting values always behaves as a copy.\n",
      "\n",
      "For example, when doing 'df[col].method(value, inplace=True)', try using 'df.method({col: value}, inplace=True)' or df[col] = df[col].method(value) instead, to perform the operation inplace on the original object.\n",
      "\n",
      "\n",
      "  df['Sex'].fillna(mode_value,inplace=True)\n",
      "C:\\Users\\Admin\\AppData\\Local\\Temp\\ipykernel_6780\\597328377.py:9: FutureWarning: A value is trying to be set on a copy of a DataFrame or Series through chained assignment using an inplace method.\n",
      "The behavior will change in pandas 3.0. This inplace method will never work because the intermediate object on which we are setting values always behaves as a copy.\n",
      "\n",
      "For example, when doing 'df[col].method(value, inplace=True)', try using 'df.method({col: value}, inplace=True)' or df[col] = df[col].method(value) instead, to perform the operation inplace on the original object.\n",
      "\n",
      "\n",
      "  df['ID_Method'].fillna('Singing',inplace=True)\n"
     ]
    }
   ],
   "source": [
    "#Droping The Values,Column\n",
    "df.drop(columns=['Sub_Unit_Code'],inplace=True)\n",
    "df.dropna(subset=[\"AcceptedTSN\"],inplace=True)\n",
    "#Imputing The Data\n",
    "distance_data=df['Distance'].mode()[0]\n",
    "df['Distance'].fillna(distance_data,inplace=True)\n",
    "mode_value = df['Sex'].mode()[0]  \n",
    "df['Sex'].fillna(mode_value,inplace=True)\n",
    "df['ID_Method'].fillna('Singing',inplace=True)\n"
   ]
  },
  {
   "cell_type": "code",
   "execution_count": 4,
   "metadata": {},
   "outputs": [
    {
     "name": "stdout",
     "output_type": "stream",
     "text": [
      "<class 'pandas.core.frame.DataFrame'>\n",
      "RangeIndex: 8537 entries, 0 to 8536\n",
      "Data columns (total 28 columns):\n",
      " #   Column                       Non-Null Count  Dtype  \n",
      "---  ------                       --------------  -----  \n",
      " 0   Admin_Unit_Code              8537 non-null   object \n",
      " 1   Site_Name                    8537 non-null   object \n",
      " 2   Plot_Name                    8537 non-null   object \n",
      " 3   Location_Type                8537 non-null   object \n",
      " 4   Year                         8537 non-null   int64  \n",
      " 5   Date                         8537 non-null   object \n",
      " 6   Start_Time                   8537 non-null   object \n",
      " 7   End_Time                     8537 non-null   object \n",
      " 8   Observer                     8537 non-null   object \n",
      " 9   Visit                        8537 non-null   int64  \n",
      " 10  Interval_Length              8537 non-null   object \n",
      " 11  ID_Method                    8537 non-null   object \n",
      " 12  Distance                     8537 non-null   object \n",
      " 13  Flyover_Observed             8537 non-null   bool   \n",
      " 14  Sex                          8537 non-null   object \n",
      " 15  Common_Name                  8537 non-null   object \n",
      " 16  Scientific_Name              8537 non-null   object \n",
      " 17  AcceptedTSN                  8537 non-null   float64\n",
      " 18  NPSTaxonCode                 8537 non-null   int64  \n",
      " 19  AOU_Code                     8537 non-null   object \n",
      " 20  PIF_Watchlist_Status         8537 non-null   bool   \n",
      " 21  Regional_Stewardship_Status  8537 non-null   bool   \n",
      " 22  Temperature                  8537 non-null   float64\n",
      " 23  Humidity                     8537 non-null   float64\n",
      " 24  Sky                          8537 non-null   object \n",
      " 25  Wind                         8537 non-null   object \n",
      " 26  Disturbance                  8537 non-null   object \n",
      " 27  Initial_Three_Min_Cnt        8537 non-null   bool   \n",
      "dtypes: bool(4), float64(3), int64(3), object(18)\n",
      "memory usage: 1.6+ MB\n"
     ]
    }
   ],
   "source": [
    "df.to_csv(\"forest.csv\",index=False)\n",
    "Forest=pd.read_csv(\"C:/Users/Admin/OneDrive/Desktop/Final/DS_Bird Species Observation Analysis in Forest and Grassland/forest.csv\")\n",
    "Forest.info()"
   ]
  },
  {
   "cell_type": "markdown",
   "metadata": {},
   "source": [
    "# Grass Land"
   ]
  },
  {
   "cell_type": "code",
   "execution_count": null,
   "metadata": {},
   "outputs": [],
   "source": [
    "## Convert Excel Sheet to a Single Excel##  "
   ]
  },
  {
   "cell_type": "code",
   "execution_count": 5,
   "metadata": {},
   "outputs": [
    {
     "name": "stderr",
     "output_type": "stream",
     "text": [
      "C:\\Users\\Admin\\AppData\\Local\\Temp\\ipykernel_6780\\3047427389.py:5: FutureWarning: The behavior of DataFrame concatenation with empty or all-NA entries is deprecated. In a future version, this will no longer exclude empty or all-NA columns when determining the result dtypes. To retain the old behavior, exclude the relevant entries before the concat operation.\n",
      "  combine_df=pd.concat(\n"
     ]
    },
    {
     "data": {
      "text/plain": [
       "np.int64(1705)"
      ]
     },
     "execution_count": 5,
     "metadata": {},
     "output_type": "execute_result"
    }
   ],
   "source": [
    "excel_data=pd.ExcelFile(\"C:/Users/Admin/OneDrive/Desktop/Final/DS_Bird Species Observation Analysis in Forest and Grassland/Bird_Monitoring_Data_GRASSLAND.XLSX\")\n",
    "sheet_names=excel_data.sheet_names\n",
    "sheets_dict={sheet :excel_data.parse(sheet) for sheet in sheet_names}\n",
    "\n",
    "combine_df=pd.concat(\n",
    "    [df.assign(sheet=sheet_name) for sheet_name,df in sheets_dict.items()],\n",
    "    ignore_index=True\n",
    ")\n",
    "\n",
    "df = combine_df.drop(columns=['sheet'])\n",
    "df.duplicated().sum()"
   ]
  },
  {
   "cell_type": "code",
   "execution_count": 6,
   "metadata": {},
   "outputs": [
    {
     "name": "stderr",
     "output_type": "stream",
     "text": [
      "C:\\Users\\Admin\\AppData\\Local\\Temp\\ipykernel_6780\\1494111822.py:6: FutureWarning: A value is trying to be set on a copy of a DataFrame or Series through chained assignment using an inplace method.\n",
      "The behavior will change in pandas 3.0. This inplace method will never work because the intermediate object on which we are setting values always behaves as a copy.\n",
      "\n",
      "For example, when doing 'df[col].method(value, inplace=True)', try using 'df.method({col: value}, inplace=True)' or df[col] = df[col].method(value) instead, to perform the operation inplace on the original object.\n",
      "\n",
      "\n",
      "  df['Distance'].fillna(distance_data,inplace=True)\n",
      "C:\\Users\\Admin\\AppData\\Local\\Temp\\ipykernel_6780\\1494111822.py:7: FutureWarning: A value is trying to be set on a copy of a DataFrame or Series through chained assignment using an inplace method.\n",
      "The behavior will change in pandas 3.0. This inplace method will never work because the intermediate object on which we are setting values always behaves as a copy.\n",
      "\n",
      "For example, when doing 'df[col].method(value, inplace=True)', try using 'df.method({col: value}, inplace=True)' or df[col] = df[col].method(value) instead, to perform the operation inplace on the original object.\n",
      "\n",
      "\n",
      "  df['AcceptedTSN'].fillna(df['AcceptedTSN'].mode()[0],inplace=True)\n",
      "C:\\Users\\Admin\\AppData\\Local\\Temp\\ipykernel_6780\\1494111822.py:9: FutureWarning: A value is trying to be set on a copy of a DataFrame or Series through chained assignment using an inplace method.\n",
      "The behavior will change in pandas 3.0. This inplace method will never work because the intermediate object on which we are setting values always behaves as a copy.\n",
      "\n",
      "For example, when doing 'df[col].method(value, inplace=True)', try using 'df.method({col: value}, inplace=True)' or df[col] = df[col].method(value) instead, to perform the operation inplace on the original object.\n",
      "\n",
      "\n",
      "  df['TaxonCode'].fillna(Taxon,inplace=True)\n"
     ]
    }
   ],
   "source": [
    "#Droping The Values,Column\n",
    "df.drop(columns=['Sub_Unit_Code'],inplace=True)\n",
    "df.dropna(subset=['ID_Method'],inplace=True)\n",
    "#Imputing The Data\n",
    "distance_data=df['Distance'].mode()[0]\n",
    "df['Distance'].fillna(distance_data,inplace=True)\n",
    "df['AcceptedTSN'].fillna(df['AcceptedTSN'].mode()[0],inplace=True)\n",
    "Taxon=df['TaxonCode'].mode()[0]\n",
    "df['TaxonCode'].fillna(Taxon,inplace=True)"
   ]
  },
  {
   "cell_type": "code",
   "execution_count": 7,
   "metadata": {},
   "outputs": [
    {
     "data": {
      "text/plain": [
       "Admin_Unit_Code                0\n",
       "Plot_Name                      0\n",
       "Location_Type                  0\n",
       "Year                           0\n",
       "Date                           0\n",
       "Start_Time                     0\n",
       "End_Time                       0\n",
       "Observer                       0\n",
       "Visit                          0\n",
       "Interval_Length                0\n",
       "ID_Method                      0\n",
       "Distance                       0\n",
       "Flyover_Observed               0\n",
       "Sex                            0\n",
       "Common_Name                    0\n",
       "Scientific_Name                0\n",
       "AcceptedTSN                    0\n",
       "TaxonCode                      0\n",
       "AOU_Code                       0\n",
       "PIF_Watchlist_Status           0\n",
       "Regional_Stewardship_Status    0\n",
       "Temperature                    0\n",
       "Humidity                       0\n",
       "Sky                            0\n",
       "Wind                           0\n",
       "Disturbance                    0\n",
       "Previously_Obs                 0\n",
       "Initial_Three_Min_Cnt          0\n",
       "dtype: int64"
      ]
     },
     "execution_count": 7,
     "metadata": {},
     "output_type": "execute_result"
    }
   ],
   "source": [
    "df.isnull().sum()"
   ]
  },
  {
   "cell_type": "code",
   "execution_count": 8,
   "metadata": {},
   "outputs": [
    {
     "data": {
      "text/plain": [
       "np.int64(1705)"
      ]
     },
     "execution_count": 8,
     "metadata": {},
     "output_type": "execute_result"
    }
   ],
   "source": [
    "df.duplicated().sum()"
   ]
  },
  {
   "cell_type": "code",
   "execution_count": 9,
   "metadata": {},
   "outputs": [],
   "source": [
    "df.drop_duplicates(inplace=True)"
   ]
  },
  {
   "cell_type": "code",
   "execution_count": 10,
   "metadata": {},
   "outputs": [
    {
     "data": {
      "text/plain": [
       "np.int64(0)"
      ]
     },
     "execution_count": 10,
     "metadata": {},
     "output_type": "execute_result"
    }
   ],
   "source": [
    "df.duplicated().sum()"
   ]
  },
  {
   "cell_type": "code",
   "execution_count": 11,
   "metadata": {},
   "outputs": [],
   "source": [
    "df.to_csv('Grass_Land.csv',index=False)\n",
    "Grass=pd.read_csv(\"C:/Users/Admin/OneDrive/Desktop/Final/DS_Bird Species Observation Analysis in Forest and Grassland/Grass_Land.csv\")"
   ]
  },
  {
   "cell_type": "code",
   "execution_count": 12,
   "metadata": {},
   "outputs": [
    {
     "data": {
      "text/plain": [
       "Admin_Unit_Code                  4\n",
       "Plot_Name                      201\n",
       "Location_Type                    1\n",
       "Year                             1\n",
       "Date                            26\n",
       "Start_Time                     273\n",
       "End_Time                       276\n",
       "Observer                         3\n",
       "Visit                            3\n",
       "Interval_Length                  4\n",
       "ID_Method                        3\n",
       "Distance                         2\n",
       "Flyover_Observed                 2\n",
       "Sex                              3\n",
       "Common_Name                    107\n",
       "Scientific_Name                107\n",
       "AcceptedTSN                    106\n",
       "TaxonCode                      105\n",
       "AOU_Code                       107\n",
       "PIF_Watchlist_Status             2\n",
       "Regional_Stewardship_Status      2\n",
       "Temperature                    188\n",
       "Humidity                       325\n",
       "Sky                              5\n",
       "Wind                             4\n",
       "Disturbance                      4\n",
       "Previously_Obs                   1\n",
       "Initial_Three_Min_Cnt            2\n",
       "dtype: int64"
      ]
     },
     "execution_count": 12,
     "metadata": {},
     "output_type": "execute_result"
    }
   ],
   "source": [
    "Grass.nunique()"
   ]
  },
  {
   "cell_type": "code",
   "execution_count": 13,
   "metadata": {},
   "outputs": [
    {
     "data": {
      "text/plain": [
       "Admin_Unit_Code                 11\n",
       "Site_Name                       70\n",
       "Plot_Name                      408\n",
       "Location_Type                    1\n",
       "Year                             1\n",
       "Date                            57\n",
       "Start_Time                     282\n",
       "End_Time                       283\n",
       "Observer                         3\n",
       "Visit                            2\n",
       "Interval_Length                  4\n",
       "ID_Method                        3\n",
       "Distance                         2\n",
       "Flyover_Observed                 2\n",
       "Sex                              2\n",
       "Common_Name                    107\n",
       "Scientific_Name                107\n",
       "AcceptedTSN                    107\n",
       "NPSTaxonCode                   107\n",
       "AOU_Code                       107\n",
       "PIF_Watchlist_Status             2\n",
       "Regional_Stewardship_Status      2\n",
       "Temperature                    160\n",
       "Humidity                       302\n",
       "Sky                              5\n",
       "Wind                             4\n",
       "Disturbance                      4\n",
       "Initial_Three_Min_Cnt            2\n",
       "dtype: int64"
      ]
     },
     "execution_count": 13,
     "metadata": {},
     "output_type": "execute_result"
    }
   ],
   "source": [
    "Forest.nunique()"
   ]
  }
 ],
 "metadata": {
  "kernelspec": {
   "display_name": "Python 3",
   "language": "python",
   "name": "python3"
  },
  "language_info": {
   "codemirror_mode": {
    "name": "ipython",
    "version": 3
   },
   "file_extension": ".py",
   "mimetype": "text/x-python",
   "name": "python",
   "nbconvert_exporter": "python",
   "pygments_lexer": "ipython3",
   "version": "3.13.0"
  }
 },
 "nbformat": 4,
 "nbformat_minor": 2
}
